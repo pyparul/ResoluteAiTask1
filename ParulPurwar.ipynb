{
 "cells": [
  {
   "attachments": {},
   "cell_type": "markdown",
   "metadata": {},
   "source": [
    "# Task 1\n",
    "Task: Use any unsupervised technique to extract patterns or segregate data into groups.\n",
    "User Story: User should be able to provide a data point (a row) and program should be able to identify\n",
    "to which group given data point belongs to and why?"
   ]
  },
  {
   "cell_type": "code",
   "execution_count": null,
   "metadata": {},
   "outputs": [],
   "source": [
    "import pandas as pd\n",
    "import numpy as np "
   ]
  },
  {
   "cell_type": "code",
   "execution_count": 62,
   "metadata": {},
   "outputs": [],
   "source": [
    "data = pd.read_csv(r'Online Retail.csv')"
   ]
  },
  {
   "cell_type": "code",
   "execution_count": 63,
   "metadata": {},
   "outputs": [
    {
     "data": {
      "text/html": [
       "<div>\n",
       "<style scoped>\n",
       "    .dataframe tbody tr th:only-of-type {\n",
       "        vertical-align: middle;\n",
       "    }\n",
       "\n",
       "    .dataframe tbody tr th {\n",
       "        vertical-align: top;\n",
       "    }\n",
       "\n",
       "    .dataframe thead th {\n",
       "        text-align: right;\n",
       "    }\n",
       "</style>\n",
       "<table border=\"1\" class=\"dataframe\">\n",
       "  <thead>\n",
       "    <tr style=\"text-align: right;\">\n",
       "      <th></th>\n",
       "      <th>InvoiceNo</th>\n",
       "      <th>StockCode</th>\n",
       "      <th>Description</th>\n",
       "      <th>Quantity</th>\n",
       "      <th>InvoiceDate</th>\n",
       "      <th>UnitPrice</th>\n",
       "      <th>CustomerID</th>\n",
       "      <th>Country</th>\n",
       "    </tr>\n",
       "  </thead>\n",
       "  <tbody>\n",
       "    <tr>\n",
       "      <th>195462</th>\n",
       "      <td>553718</td>\n",
       "      <td>23174</td>\n",
       "      <td>REGENCY SUGAR BOWL GREEN</td>\n",
       "      <td>3</td>\n",
       "      <td>5/18/2011 16:14</td>\n",
       "      <td>8.29</td>\n",
       "      <td>NaN</td>\n",
       "      <td>United Kingdom</td>\n",
       "    </tr>\n",
       "    <tr>\n",
       "      <th>414142</th>\n",
       "      <td>572344</td>\n",
       "      <td>M</td>\n",
       "      <td>Manual</td>\n",
       "      <td>48</td>\n",
       "      <td>10/24/2011 10:43</td>\n",
       "      <td>1.50</td>\n",
       "      <td>14607.0</td>\n",
       "      <td>United Kingdom</td>\n",
       "    </tr>\n",
       "    <tr>\n",
       "      <th>479952</th>\n",
       "      <td>577228</td>\n",
       "      <td>22562</td>\n",
       "      <td>MONSTERS STENCIL CRAFT</td>\n",
       "      <td>1</td>\n",
       "      <td>11/18/2011 12:07</td>\n",
       "      <td>1.25</td>\n",
       "      <td>12391.0</td>\n",
       "      <td>Cyprus</td>\n",
       "    </tr>\n",
       "    <tr>\n",
       "      <th>388441</th>\n",
       "      <td>570428</td>\n",
       "      <td>22044</td>\n",
       "      <td>CHRISTMAS CARD STACK OF PRESENTS</td>\n",
       "      <td>24</td>\n",
       "      <td>10/10/2011 14:02</td>\n",
       "      <td>0.19</td>\n",
       "      <td>15553.0</td>\n",
       "      <td>United Kingdom</td>\n",
       "    </tr>\n",
       "    <tr>\n",
       "      <th>451060</th>\n",
       "      <td>575177</td>\n",
       "      <td>47593B</td>\n",
       "      <td>SCOTTIE DOGS BABY BIB</td>\n",
       "      <td>2</td>\n",
       "      <td>11/8/2011 18:41</td>\n",
       "      <td>0.83</td>\n",
       "      <td>NaN</td>\n",
       "      <td>United Kingdom</td>\n",
       "    </tr>\n",
       "  </tbody>\n",
       "</table>\n",
       "</div>"
      ],
      "text/plain": [
       "       InvoiceNo StockCode                       Description  Quantity   \n",
       "195462    553718     23174          REGENCY SUGAR BOWL GREEN         3  \\\n",
       "414142    572344         M                            Manual        48   \n",
       "479952    577228     22562            MONSTERS STENCIL CRAFT         1   \n",
       "388441    570428     22044  CHRISTMAS CARD STACK OF PRESENTS        24   \n",
       "451060    575177    47593B             SCOTTIE DOGS BABY BIB         2   \n",
       "\n",
       "             InvoiceDate  UnitPrice  CustomerID         Country  \n",
       "195462   5/18/2011 16:14       8.29         NaN  United Kingdom  \n",
       "414142  10/24/2011 10:43       1.50     14607.0  United Kingdom  \n",
       "479952  11/18/2011 12:07       1.25     12391.0          Cyprus  \n",
       "388441  10/10/2011 14:02       0.19     15553.0  United Kingdom  \n",
       "451060   11/8/2011 18:41       0.83         NaN  United Kingdom  "
      ]
     },
     "execution_count": 63,
     "metadata": {},
     "output_type": "execute_result"
    }
   ],
   "source": [
    "data.sample(5)"
   ]
  },
  {
   "cell_type": "code",
   "execution_count": 64,
   "metadata": {},
   "outputs": [
    {
     "name": "stdout",
     "output_type": "stream",
     "text": [
      "<class 'pandas.core.frame.DataFrame'>\n",
      "RangeIndex: 541909 entries, 0 to 541908\n",
      "Data columns (total 8 columns):\n",
      " #   Column       Non-Null Count   Dtype  \n",
      "---  ------       --------------   -----  \n",
      " 0   InvoiceNo    541909 non-null  object \n",
      " 1   StockCode    541909 non-null  object \n",
      " 2   Description  540455 non-null  object \n",
      " 3   Quantity     541909 non-null  int64  \n",
      " 4   InvoiceDate  541909 non-null  object \n",
      " 5   UnitPrice    541909 non-null  float64\n",
      " 6   CustomerID   406829 non-null  float64\n",
      " 7   Country      541909 non-null  object \n",
      "dtypes: float64(2), int64(1), object(5)\n",
      "memory usage: 33.1+ MB\n"
     ]
    }
   ],
   "source": [
    "data.info()"
   ]
  },
  {
   "cell_type": "code",
   "execution_count": 65,
   "metadata": {},
   "outputs": [
    {
     "data": {
      "text/plain": [
       "InvoiceNo           0\n",
       "StockCode           0\n",
       "Description      1454\n",
       "Quantity            0\n",
       "InvoiceDate         0\n",
       "UnitPrice           0\n",
       "CustomerID     135080\n",
       "Country             0\n",
       "dtype: int64"
      ]
     },
     "execution_count": 65,
     "metadata": {},
     "output_type": "execute_result"
    }
   ],
   "source": [
    "data.isnull().sum()"
   ]
  },
  {
   "cell_type": "code",
   "execution_count": 66,
   "metadata": {},
   "outputs": [
    {
     "data": {
      "text/plain": [
       "array(['United Kingdom', 'France', 'Australia', 'Netherlands', 'Germany',\n",
       "       'Norway', 'EIRE', 'Switzerland', 'Spain', 'Poland', 'Portugal',\n",
       "       'Italy', 'Belgium', 'Lithuania', 'Japan', 'Iceland',\n",
       "       'Channel Islands', 'Denmark', 'Cyprus', 'Sweden', 'Austria',\n",
       "       'Israel', 'Finland', 'Bahrain', 'Greece', 'Hong Kong', 'Singapore',\n",
       "       'Lebanon', 'United Arab Emirates', 'Saudi Arabia',\n",
       "       'Czech Republic', 'Canada', 'Unspecified', 'Brazil', 'USA',\n",
       "       'European Community', 'Malta', 'RSA'], dtype=object)"
      ]
     },
     "execution_count": 66,
     "metadata": {},
     "output_type": "execute_result"
    }
   ],
   "source": [
    "data['Country'].unique()"
   ]
  },
  {
   "cell_type": "code",
   "execution_count": 67,
   "metadata": {},
   "outputs": [],
   "source": [
    "data = data.dropna()"
   ]
  },
  {
   "attachments": {},
   "cell_type": "markdown",
   "metadata": {},
   "source": [
    "# Encoding"
   ]
  },
  {
   "cell_type": "code",
   "execution_count": 68,
   "metadata": {},
   "outputs": [],
   "source": [
    "data['InvoiceDate'] = pd.to_datetime(data['InvoiceDate'], format='%m/%d/%Y %H:%M')\n",
    "\n",
    "# Encode the 'date_column' as numeric representation\n",
    "#data['encoded_date'] = data['InvoiceDate'].astype('int64').astype(int)\n",
    "data['InvoiceDate'] = data['InvoiceDate'].astype('int64') // 10**9"
   ]
  },
  {
   "cell_type": "code",
   "execution_count": 69,
   "metadata": {},
   "outputs": [],
   "source": [
    "from sklearn.preprocessing import LabelEncoder"
   ]
  },
  {
   "cell_type": "code",
   "execution_count": 70,
   "metadata": {},
   "outputs": [],
   "source": [
    "le = LabelEncoder()\n",
    "data['Country'] = pd.DataFrame(le.fit_transform(data['Country']))"
   ]
  },
  {
   "cell_type": "code",
   "execution_count": 72,
   "metadata": {},
   "outputs": [
    {
     "data": {
      "text/html": [
       "<div>\n",
       "<style scoped>\n",
       "    .dataframe tbody tr th:only-of-type {\n",
       "        vertical-align: middle;\n",
       "    }\n",
       "\n",
       "    .dataframe tbody tr th {\n",
       "        vertical-align: top;\n",
       "    }\n",
       "\n",
       "    .dataframe thead th {\n",
       "        text-align: right;\n",
       "    }\n",
       "</style>\n",
       "<table border=\"1\" class=\"dataframe\">\n",
       "  <thead>\n",
       "    <tr style=\"text-align: right;\">\n",
       "      <th></th>\n",
       "      <th>InvoiceNo</th>\n",
       "      <th>StockCode</th>\n",
       "      <th>Description</th>\n",
       "      <th>Quantity</th>\n",
       "      <th>InvoiceDate</th>\n",
       "      <th>UnitPrice</th>\n",
       "      <th>CustomerID</th>\n",
       "      <th>Country</th>\n",
       "    </tr>\n",
       "  </thead>\n",
       "  <tbody>\n",
       "    <tr>\n",
       "      <th>202114</th>\n",
       "      <td>554363</td>\n",
       "      <td>21936</td>\n",
       "      <td>RED RETROSPOT PICNIC BAG</td>\n",
       "      <td>10</td>\n",
       "      <td>1306232340</td>\n",
       "      <td>2.95</td>\n",
       "      <td>12647.0</td>\n",
       "      <td>35.0</td>\n",
       "    </tr>\n",
       "    <tr>\n",
       "      <th>296401</th>\n",
       "      <td>562892</td>\n",
       "      <td>23297</td>\n",
       "      <td>SET 40 HEART SHAPE PETIT FOUR CASES</td>\n",
       "      <td>16</td>\n",
       "      <td>1312979040</td>\n",
       "      <td>1.65</td>\n",
       "      <td>16292.0</td>\n",
       "      <td>35.0</td>\n",
       "    </tr>\n",
       "    <tr>\n",
       "      <th>257341</th>\n",
       "      <td>559525</td>\n",
       "      <td>21210</td>\n",
       "      <td>SET OF 72 RETROSPOT PAPER  DOILIES</td>\n",
       "      <td>4</td>\n",
       "      <td>1310293800</td>\n",
       "      <td>1.45</td>\n",
       "      <td>16923.0</td>\n",
       "      <td>35.0</td>\n",
       "    </tr>\n",
       "    <tr>\n",
       "      <th>139353</th>\n",
       "      <td>548312</td>\n",
       "      <td>47566</td>\n",
       "      <td>PARTY BUNTING</td>\n",
       "      <td>2</td>\n",
       "      <td>1301487120</td>\n",
       "      <td>4.95</td>\n",
       "      <td>16059.0</td>\n",
       "      <td>35.0</td>\n",
       "    </tr>\n",
       "    <tr>\n",
       "      <th>291530</th>\n",
       "      <td>562457</td>\n",
       "      <td>22716</td>\n",
       "      <td>CARD CIRCUS PARADE</td>\n",
       "      <td>12</td>\n",
       "      <td>1312542000</td>\n",
       "      <td>0.42</td>\n",
       "      <td>18079.0</td>\n",
       "      <td>13.0</td>\n",
       "    </tr>\n",
       "    <tr>\n",
       "      <th>195276</th>\n",
       "      <td>553710</td>\n",
       "      <td>47591D</td>\n",
       "      <td>PINK FAIRY CAKE CHILDRENS APRON</td>\n",
       "      <td>3</td>\n",
       "      <td>1305732900</td>\n",
       "      <td>1.95</td>\n",
       "      <td>17338.0</td>\n",
       "      <td>35.0</td>\n",
       "    </tr>\n",
       "    <tr>\n",
       "      <th>334186</th>\n",
       "      <td>566233</td>\n",
       "      <td>22303</td>\n",
       "      <td>COFFEE MUG APPLES DESIGN</td>\n",
       "      <td>6</td>\n",
       "      <td>1315739040</td>\n",
       "      <td>2.55</td>\n",
       "      <td>12635.0</td>\n",
       "      <td>35.0</td>\n",
       "    </tr>\n",
       "    <tr>\n",
       "      <th>281898</th>\n",
       "      <td>561610</td>\n",
       "      <td>22621</td>\n",
       "      <td>TRADITIONAL KNITTING NANCY</td>\n",
       "      <td>12</td>\n",
       "      <td>1311856080</td>\n",
       "      <td>1.65</td>\n",
       "      <td>16076.0</td>\n",
       "      <td>26.0</td>\n",
       "    </tr>\n",
       "    <tr>\n",
       "      <th>218241</th>\n",
       "      <td>556032</td>\n",
       "      <td>22669</td>\n",
       "      <td>RED BABY BUNTING</td>\n",
       "      <td>5</td>\n",
       "      <td>1307536500</td>\n",
       "      <td>2.95</td>\n",
       "      <td>15159.0</td>\n",
       "      <td>35.0</td>\n",
       "    </tr>\n",
       "    <tr>\n",
       "      <th>128772</th>\n",
       "      <td>547359</td>\n",
       "      <td>20974</td>\n",
       "      <td>12 PENCILS SMALL TUBE SKULL</td>\n",
       "      <td>3</td>\n",
       "      <td>1300796820</td>\n",
       "      <td>0.65</td>\n",
       "      <td>15719.0</td>\n",
       "      <td>35.0</td>\n",
       "    </tr>\n",
       "  </tbody>\n",
       "</table>\n",
       "</div>"
      ],
      "text/plain": [
       "       InvoiceNo StockCode                          Description  Quantity   \n",
       "202114    554363     21936             RED RETROSPOT PICNIC BAG        10  \\\n",
       "296401    562892     23297  SET 40 HEART SHAPE PETIT FOUR CASES        16   \n",
       "257341    559525     21210   SET OF 72 RETROSPOT PAPER  DOILIES         4   \n",
       "139353    548312     47566                        PARTY BUNTING         2   \n",
       "291530    562457     22716                   CARD CIRCUS PARADE        12   \n",
       "195276    553710    47591D      PINK FAIRY CAKE CHILDRENS APRON         3   \n",
       "334186    566233     22303             COFFEE MUG APPLES DESIGN         6   \n",
       "281898    561610     22621           TRADITIONAL KNITTING NANCY        12   \n",
       "218241    556032     22669                    RED BABY BUNTING          5   \n",
       "128772    547359     20974          12 PENCILS SMALL TUBE SKULL         3   \n",
       "\n",
       "        InvoiceDate  UnitPrice  CustomerID  Country  \n",
       "202114   1306232340       2.95     12647.0     35.0  \n",
       "296401   1312979040       1.65     16292.0     35.0  \n",
       "257341   1310293800       1.45     16923.0     35.0  \n",
       "139353   1301487120       4.95     16059.0     35.0  \n",
       "291530   1312542000       0.42     18079.0     13.0  \n",
       "195276   1305732900       1.95     17338.0     35.0  \n",
       "334186   1315739040       2.55     12635.0     35.0  \n",
       "281898   1311856080       1.65     16076.0     26.0  \n",
       "218241   1307536500       2.95     15159.0     35.0  \n",
       "128772   1300796820       0.65     15719.0     35.0  "
      ]
     },
     "execution_count": 72,
     "metadata": {},
     "output_type": "execute_result"
    }
   ],
   "source": [
    "data = data.dropna()\n",
    "data.sample(10)"
   ]
  },
  {
   "cell_type": "code",
   "execution_count": 74,
   "metadata": {},
   "outputs": [
    {
     "data": {
      "text/plain": [
       "3782"
      ]
     },
     "execution_count": 74,
     "metadata": {},
     "output_type": "execute_result"
    }
   ],
   "source": [
    "data['Description'].nunique()"
   ]
  },
  {
   "cell_type": "code",
   "execution_count": 78,
   "metadata": {},
   "outputs": [
    {
     "data": {
      "text/html": [
       "<div>\n",
       "<style scoped>\n",
       "    .dataframe tbody tr th:only-of-type {\n",
       "        vertical-align: middle;\n",
       "    }\n",
       "\n",
       "    .dataframe tbody tr th {\n",
       "        vertical-align: top;\n",
       "    }\n",
       "\n",
       "    .dataframe thead th {\n",
       "        text-align: right;\n",
       "    }\n",
       "</style>\n",
       "<table border=\"1\" class=\"dataframe\">\n",
       "  <thead>\n",
       "    <tr style=\"text-align: right;\">\n",
       "      <th></th>\n",
       "      <th>InvoiceNo</th>\n",
       "      <th>StockCode</th>\n",
       "      <th>Description</th>\n",
       "      <th>Quantity</th>\n",
       "      <th>InvoiceDate</th>\n",
       "      <th>UnitPrice</th>\n",
       "      <th>CustomerID</th>\n",
       "      <th>Country</th>\n",
       "    </tr>\n",
       "  </thead>\n",
       "  <tbody>\n",
       "    <tr>\n",
       "      <th>54059</th>\n",
       "      <td>540849</td>\n",
       "      <td>22904</td>\n",
       "      <td>134.0</td>\n",
       "      <td>6</td>\n",
       "      <td>1294824780</td>\n",
       "      <td>2.95</td>\n",
       "      <td>14270.0</td>\n",
       "      <td>35.0</td>\n",
       "    </tr>\n",
       "    <tr>\n",
       "      <th>172753</th>\n",
       "      <td>551558</td>\n",
       "      <td>22757</td>\n",
       "      <td>3456.0</td>\n",
       "      <td>1</td>\n",
       "      <td>1304419260</td>\n",
       "      <td>1.25</td>\n",
       "      <td>17841.0</td>\n",
       "      <td>35.0</td>\n",
       "    </tr>\n",
       "    <tr>\n",
       "      <th>266048</th>\n",
       "      <td>560240</td>\n",
       "      <td>21714</td>\n",
       "      <td>3457.0</td>\n",
       "      <td>6</td>\n",
       "      <td>1310903940</td>\n",
       "      <td>1.25</td>\n",
       "      <td>15716.0</td>\n",
       "      <td>35.0</td>\n",
       "    </tr>\n",
       "    <tr>\n",
       "      <th>162699</th>\n",
       "      <td>550515</td>\n",
       "      <td>21340</td>\n",
       "      <td>3456.0</td>\n",
       "      <td>1</td>\n",
       "      <td>1303147740</td>\n",
       "      <td>12.75</td>\n",
       "      <td>14502.0</td>\n",
       "      <td>35.0</td>\n",
       "    </tr>\n",
       "    <tr>\n",
       "      <th>2364</th>\n",
       "      <td>536584</td>\n",
       "      <td>84029E</td>\n",
       "      <td>3353.0</td>\n",
       "      <td>384</td>\n",
       "      <td>1291220520</td>\n",
       "      <td>2.95</td>\n",
       "      <td>13777.0</td>\n",
       "      <td>35.0</td>\n",
       "    </tr>\n",
       "    <tr>\n",
       "      <th>222378</th>\n",
       "      <td>556425</td>\n",
       "      <td>22315</td>\n",
       "      <td>3457.0</td>\n",
       "      <td>1</td>\n",
       "      <td>1307710260</td>\n",
       "      <td>1.25</td>\n",
       "      <td>14178.0</td>\n",
       "      <td>35.0</td>\n",
       "    </tr>\n",
       "    <tr>\n",
       "      <th>176909</th>\n",
       "      <td>552038</td>\n",
       "      <td>21977</td>\n",
       "      <td>3456.0</td>\n",
       "      <td>240</td>\n",
       "      <td>1304669280</td>\n",
       "      <td>0.42</td>\n",
       "      <td>14156.0</td>\n",
       "      <td>35.0</td>\n",
       "    </tr>\n",
       "    <tr>\n",
       "      <th>113893</th>\n",
       "      <td>545999</td>\n",
       "      <td>22662</td>\n",
       "      <td>3455.0</td>\n",
       "      <td>10</td>\n",
       "      <td>1299595440</td>\n",
       "      <td>1.65</td>\n",
       "      <td>13089.0</td>\n",
       "      <td>35.0</td>\n",
       "    </tr>\n",
       "    <tr>\n",
       "      <th>215618</th>\n",
       "      <td>555726</td>\n",
       "      <td>23204</td>\n",
       "      <td>3456.0</td>\n",
       "      <td>10</td>\n",
       "      <td>1307377380</td>\n",
       "      <td>0.85</td>\n",
       "      <td>12540.0</td>\n",
       "      <td>23.0</td>\n",
       "    </tr>\n",
       "    <tr>\n",
       "      <th>213516</th>\n",
       "      <td>555545</td>\n",
       "      <td>23206</td>\n",
       "      <td>3456.0</td>\n",
       "      <td>10</td>\n",
       "      <td>1307279280</td>\n",
       "      <td>1.65</td>\n",
       "      <td>17735.0</td>\n",
       "      <td>35.0</td>\n",
       "    </tr>\n",
       "  </tbody>\n",
       "</table>\n",
       "</div>"
      ],
      "text/plain": [
       "       InvoiceNo StockCode  Description  Quantity  InvoiceDate  UnitPrice   \n",
       "54059     540849     22904        134.0         6   1294824780       2.95  \\\n",
       "172753    551558     22757       3456.0         1   1304419260       1.25   \n",
       "266048    560240     21714       3457.0         6   1310903940       1.25   \n",
       "162699    550515     21340       3456.0         1   1303147740      12.75   \n",
       "2364      536584    84029E       3353.0       384   1291220520       2.95   \n",
       "222378    556425     22315       3457.0         1   1307710260       1.25   \n",
       "176909    552038     21977       3456.0       240   1304669280       0.42   \n",
       "113893    545999     22662       3455.0        10   1299595440       1.65   \n",
       "215618    555726     23204       3456.0        10   1307377380       0.85   \n",
       "213516    555545     23206       3456.0        10   1307279280       1.65   \n",
       "\n",
       "        CustomerID  Country  \n",
       "54059      14270.0     35.0  \n",
       "172753     17841.0     35.0  \n",
       "266048     15716.0     35.0  \n",
       "162699     14502.0     35.0  \n",
       "2364       13777.0     35.0  \n",
       "222378     14178.0     35.0  \n",
       "176909     14156.0     35.0  \n",
       "113893     13089.0     35.0  \n",
       "215618     12540.0     23.0  \n",
       "213516     17735.0     35.0  "
      ]
     },
     "execution_count": 78,
     "metadata": {},
     "output_type": "execute_result"
    }
   ],
   "source": [
    "data['Description'] = pd.DataFrame(le.fit_transform(data['Description']))\n",
    "data = data.dropna()\n",
    "data.sample(10)"
   ]
  },
  {
   "cell_type": "code",
   "execution_count": 80,
   "metadata": {},
   "outputs": [
    {
     "data": {
      "text/html": [
       "<div>\n",
       "<style scoped>\n",
       "    .dataframe tbody tr th:only-of-type {\n",
       "        vertical-align: middle;\n",
       "    }\n",
       "\n",
       "    .dataframe tbody tr th {\n",
       "        vertical-align: top;\n",
       "    }\n",
       "\n",
       "    .dataframe thead th {\n",
       "        text-align: right;\n",
       "    }\n",
       "</style>\n",
       "<table border=\"1\" class=\"dataframe\">\n",
       "  <thead>\n",
       "    <tr style=\"text-align: right;\">\n",
       "      <th></th>\n",
       "      <th>Description</th>\n",
       "      <th>Quantity</th>\n",
       "      <th>InvoiceDate</th>\n",
       "      <th>UnitPrice</th>\n",
       "      <th>CustomerID</th>\n",
       "      <th>Country</th>\n",
       "    </tr>\n",
       "  </thead>\n",
       "  <tbody>\n",
       "    <tr>\n",
       "      <th>0</th>\n",
       "      <td>3300.0</td>\n",
       "      <td>6</td>\n",
       "      <td>1291191960</td>\n",
       "      <td>2.55</td>\n",
       "      <td>17850.0</td>\n",
       "      <td>35.0</td>\n",
       "    </tr>\n",
       "    <tr>\n",
       "      <th>1</th>\n",
       "      <td>3307.0</td>\n",
       "      <td>6</td>\n",
       "      <td>1291191960</td>\n",
       "      <td>3.39</td>\n",
       "      <td>17850.0</td>\n",
       "      <td>35.0</td>\n",
       "    </tr>\n",
       "    <tr>\n",
       "      <th>2</th>\n",
       "      <td>772.0</td>\n",
       "      <td>8</td>\n",
       "      <td>1291191960</td>\n",
       "      <td>2.75</td>\n",
       "      <td>17850.0</td>\n",
       "      <td>35.0</td>\n",
       "    </tr>\n",
       "    <tr>\n",
       "      <th>3</th>\n",
       "      <td>1618.0</td>\n",
       "      <td>6</td>\n",
       "      <td>1291191960</td>\n",
       "      <td>3.39</td>\n",
       "      <td>17850.0</td>\n",
       "      <td>35.0</td>\n",
       "    </tr>\n",
       "    <tr>\n",
       "      <th>4</th>\n",
       "      <td>2459.0</td>\n",
       "      <td>6</td>\n",
       "      <td>1291191960</td>\n",
       "      <td>3.39</td>\n",
       "      <td>17850.0</td>\n",
       "      <td>35.0</td>\n",
       "    </tr>\n",
       "  </tbody>\n",
       "</table>\n",
       "</div>"
      ],
      "text/plain": [
       "   Description  Quantity  InvoiceDate  UnitPrice  CustomerID  Country\n",
       "0       3300.0         6   1291191960       2.55     17850.0     35.0\n",
       "1       3307.0         6   1291191960       3.39     17850.0     35.0\n",
       "2        772.0         8   1291191960       2.75     17850.0     35.0\n",
       "3       1618.0         6   1291191960       3.39     17850.0     35.0\n",
       "4       2459.0         6   1291191960       3.39     17850.0     35.0"
      ]
     },
     "execution_count": 80,
     "metadata": {},
     "output_type": "execute_result"
    }
   ],
   "source": [
    "data = data.drop(['InvoiceNo','StockCode'], axis = 1)\n",
    "data.head()"
   ]
  },
  {
   "attachments": {},
   "cell_type": "markdown",
   "metadata": {},
   "source": [
    "# Scaling"
   ]
  },
  {
   "cell_type": "code",
   "execution_count": 84,
   "metadata": {},
   "outputs": [],
   "source": [
    "from sklearn.preprocessing import MinMaxScaler"
   ]
  },
  {
   "cell_type": "code",
   "execution_count": 85,
   "metadata": {},
   "outputs": [],
   "source": [
    "scaler = MinMaxScaler()\n",
    "\n",
    "normalized_data = pd.DataFrame(scaler.fit_transform(data), columns = data.columns)"
   ]
  },
  {
   "attachments": {},
   "cell_type": "markdown",
   "metadata": {},
   "source": [
    "# Train test split"
   ]
  },
  {
   "cell_type": "code",
   "execution_count": 89,
   "metadata": {},
   "outputs": [],
   "source": [
    "from sklearn.model_selection import train_test_split"
   ]
  },
  {
   "cell_type": "code",
   "execution_count": 90,
   "metadata": {},
   "outputs": [],
   "source": [
    "X_train, X_test = train_test_split(normalized_data, test_size = 0.1, random_state = 0)"
   ]
  },
  {
   "attachments": {},
   "cell_type": "markdown",
   "metadata": {},
   "source": [
    "# Clustering"
   ]
  },
  {
   "cell_type": "code",
   "execution_count": 91,
   "metadata": {},
   "outputs": [],
   "source": [
    "from sklearn.cluster import KMeans"
   ]
  },
  {
   "cell_type": "code",
   "execution_count": 96,
   "metadata": {},
   "outputs": [
    {
     "name": "stderr",
     "output_type": "stream",
     "text": [
      "C:\\Users\\parul\\AppData\\Local\\Packages\\PythonSoftwareFoundation.Python.3.11_qbz5n2kfra8p0\\LocalCache\\local-packages\\Python311\\site-packages\\sklearn\\cluster\\_kmeans.py:870: FutureWarning: The default value of `n_init` will change from 10 to 'auto' in 1.4. Set the value of `n_init` explicitly to suppress the warning\n",
      "  warnings.warn(\n"
     ]
    },
    {
     "data": {
      "text/html": [
       "<style>#sk-container-id-2 {color: black;background-color: white;}#sk-container-id-2 pre{padding: 0;}#sk-container-id-2 div.sk-toggleable {background-color: white;}#sk-container-id-2 label.sk-toggleable__label {cursor: pointer;display: block;width: 100%;margin-bottom: 0;padding: 0.3em;box-sizing: border-box;text-align: center;}#sk-container-id-2 label.sk-toggleable__label-arrow:before {content: \"▸\";float: left;margin-right: 0.25em;color: #696969;}#sk-container-id-2 label.sk-toggleable__label-arrow:hover:before {color: black;}#sk-container-id-2 div.sk-estimator:hover label.sk-toggleable__label-arrow:before {color: black;}#sk-container-id-2 div.sk-toggleable__content {max-height: 0;max-width: 0;overflow: hidden;text-align: left;background-color: #f0f8ff;}#sk-container-id-2 div.sk-toggleable__content pre {margin: 0.2em;color: black;border-radius: 0.25em;background-color: #f0f8ff;}#sk-container-id-2 input.sk-toggleable__control:checked~div.sk-toggleable__content {max-height: 200px;max-width: 100%;overflow: auto;}#sk-container-id-2 input.sk-toggleable__control:checked~label.sk-toggleable__label-arrow:before {content: \"▾\";}#sk-container-id-2 div.sk-estimator input.sk-toggleable__control:checked~label.sk-toggleable__label {background-color: #d4ebff;}#sk-container-id-2 div.sk-label input.sk-toggleable__control:checked~label.sk-toggleable__label {background-color: #d4ebff;}#sk-container-id-2 input.sk-hidden--visually {border: 0;clip: rect(1px 1px 1px 1px);clip: rect(1px, 1px, 1px, 1px);height: 1px;margin: -1px;overflow: hidden;padding: 0;position: absolute;width: 1px;}#sk-container-id-2 div.sk-estimator {font-family: monospace;background-color: #f0f8ff;border: 1px dotted black;border-radius: 0.25em;box-sizing: border-box;margin-bottom: 0.5em;}#sk-container-id-2 div.sk-estimator:hover {background-color: #d4ebff;}#sk-container-id-2 div.sk-parallel-item::after {content: \"\";width: 100%;border-bottom: 1px solid gray;flex-grow: 1;}#sk-container-id-2 div.sk-label:hover label.sk-toggleable__label {background-color: #d4ebff;}#sk-container-id-2 div.sk-serial::before {content: \"\";position: absolute;border-left: 1px solid gray;box-sizing: border-box;top: 0;bottom: 0;left: 50%;z-index: 0;}#sk-container-id-2 div.sk-serial {display: flex;flex-direction: column;align-items: center;background-color: white;padding-right: 0.2em;padding-left: 0.2em;position: relative;}#sk-container-id-2 div.sk-item {position: relative;z-index: 1;}#sk-container-id-2 div.sk-parallel {display: flex;align-items: stretch;justify-content: center;background-color: white;position: relative;}#sk-container-id-2 div.sk-item::before, #sk-container-id-2 div.sk-parallel-item::before {content: \"\";position: absolute;border-left: 1px solid gray;box-sizing: border-box;top: 0;bottom: 0;left: 50%;z-index: -1;}#sk-container-id-2 div.sk-parallel-item {display: flex;flex-direction: column;z-index: 1;position: relative;background-color: white;}#sk-container-id-2 div.sk-parallel-item:first-child::after {align-self: flex-end;width: 50%;}#sk-container-id-2 div.sk-parallel-item:last-child::after {align-self: flex-start;width: 50%;}#sk-container-id-2 div.sk-parallel-item:only-child::after {width: 0;}#sk-container-id-2 div.sk-dashed-wrapped {border: 1px dashed gray;margin: 0 0.4em 0.5em 0.4em;box-sizing: border-box;padding-bottom: 0.4em;background-color: white;}#sk-container-id-2 div.sk-label label {font-family: monospace;font-weight: bold;display: inline-block;line-height: 1.2em;}#sk-container-id-2 div.sk-label-container {text-align: center;}#sk-container-id-2 div.sk-container {/* jupyter's `normalize.less` sets `[hidden] { display: none; }` but bootstrap.min.css set `[hidden] { display: none !important; }` so we also need the `!important` here to be able to override the default hidden behavior on the sphinx rendered scikit-learn.org. See: https://github.com/scikit-learn/scikit-learn/issues/21755 */display: inline-block !important;position: relative;}#sk-container-id-2 div.sk-text-repr-fallback {display: none;}</style><div id=\"sk-container-id-2\" class=\"sk-top-container\"><div class=\"sk-text-repr-fallback\"><pre>KMeans(random_state=42)</pre><b>In a Jupyter environment, please rerun this cell to show the HTML representation or trust the notebook. <br />On GitHub, the HTML representation is unable to render, please try loading this page with nbviewer.org.</b></div><div class=\"sk-container\" hidden><div class=\"sk-item\"><div class=\"sk-estimator sk-toggleable\"><input class=\"sk-toggleable__control sk-hidden--visually\" id=\"sk-estimator-id-2\" type=\"checkbox\" checked><label for=\"sk-estimator-id-2\" class=\"sk-toggleable__label sk-toggleable__label-arrow\">KMeans</label><div class=\"sk-toggleable__content\"><pre>KMeans(random_state=42)</pre></div></div></div></div></div>"
      ],
      "text/plain": [
       "KMeans(random_state=42)"
      ]
     },
     "execution_count": 96,
     "metadata": {},
     "output_type": "execute_result"
    }
   ],
   "source": [
    "kmeans = KMeans(random_state=42)\n",
    "\n",
    "kmeans.fit(X_train)"
   ]
  },
  {
   "attachments": {},
   "cell_type": "markdown",
   "metadata": {},
   "source": [
    "## Prediction"
   ]
  },
  {
   "cell_type": "code",
   "execution_count": 97,
   "metadata": {},
   "outputs": [
    {
     "data": {
      "text/plain": [
       "array([5, 5, 3, ..., 7, 7, 3])"
      ]
     },
     "execution_count": 97,
     "metadata": {},
     "output_type": "execute_result"
    }
   ],
   "source": [
    "kmeans.predict(X_test)"
   ]
  },
  {
   "attachments": {},
   "cell_type": "markdown",
   "metadata": {},
   "source": [
    "# Visualising cluster centers"
   ]
  },
  {
   "cell_type": "code",
   "execution_count": 98,
   "metadata": {},
   "outputs": [],
   "source": [
    "import matplotlib.pyplot as plt"
   ]
  },
  {
   "cell_type": "code",
   "execution_count": 101,
   "metadata": {},
   "outputs": [
    {
     "data": {
      "image/png": "[encoded data removed]",
      "text/plain": [
       "<Figure size 640x480 with 1 Axes>"
      ]
     },
     "metadata": {},
     "output_type": "display_data"
    }
   ],
   "source": [
    "labels = kmeans.labels_\n",
    "centers = kmeans.cluster_centers_\n",
    "plt.scatter(centers[:, 0], centers[:, 1], marker='x', color='red', s=100)\n",
    "\n",
    "plt.title('K-means Clustering')\n",
    "plt.xlabel('X')\n",
    "plt.ylabel('Y')\n",
    "\n",
    "plt.show()"
   ]
  },
  {
   "cell_type": "code",
   "execution_count": null,
   "metadata": {},
   "outputs": [],
   "source": []
  }
 ],
 "metadata": {
  "kernelspec": {
   "display_name": "Python 3",
   "language": "python",
   "name": "python3"
  },
  "language_info": {
   "codemirror_mode": {
    "name": "ipython",
    "version": 3
   },
   "file_extension": ".py",
   "mimetype": "text/x-python",
   "name": "python",
   "nbconvert_exporter": "python",
   "pygments_lexer": "ipython3",
   "version": "3.11.3"
  },
  "orig_nbformat": 4
 },
 "nbformat": 4,
 "nbformat_minor": 2
}
